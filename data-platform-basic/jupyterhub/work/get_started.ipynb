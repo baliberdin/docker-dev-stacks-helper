{
 "cells": [
  {
   "cell_type": "markdown",
   "id": "01a7f386-7c85-47f8-ac0a-7e83c1f0f952",
   "metadata": {},
   "source": [
    "# Dependency Installation"
   ]
  },
  {
   "cell_type": "code",
   "execution_count": null,
   "id": "757e37c5-872b-42e5-8e8f-041d3079907c",
   "metadata": {},
   "outputs": [],
   "source": [
    "!pip install delta-spark==2.4.0 yfinance==0.2.55"
   ]
  },
  {
   "cell_type": "code",
   "execution_count": null,
   "id": "01d9b93b-3413-4491-9bff-abf6a3d4b54c",
   "metadata": {},
   "outputs": [],
   "source": [
    "from pyspark import SparkConf\n",
    "from pyspark.sql import SparkSession\n",
    "from delta.tables import *\n",
    "from pyspark.sql.functions import *\n",
    "import yfinance as yf\n",
    "import pandas as pd"
   ]
  },
  {
   "cell_type": "markdown",
   "id": "9b97aae2-e648-47ed-968c-71edd556ea49",
   "metadata": {},
   "source": [
    "# Spark Session"
   ]
  },
  {
   "cell_type": "code",
   "execution_count": null,
   "id": "bd360935-b02b-430c-85f7-1f813fc5e0b2",
   "metadata": {},
   "outputs": [],
   "source": [
    "spark_conf = SparkConf()\n",
    "spark_conf.set(\"spark.jars.packages\", \"io.delta:delta-core_2.12:2.4.0,com.amazonaws:aws-java-sdk-bundle:1.11.1026,org.apache.hadoop:hadoop-aws:3.3.4\")\n",
    "spark_conf.set(\"spark.sql.extensions\", \"io.delta.sql.DeltaSparkSessionExtension\")\n",
    "spark_conf.set(\"spark.sql.catalog.spark_catalog\", \"org.apache.spark.sql.delta.catalog.DeltaCatalog\")\n",
    "spark_conf.set(\"spark.cores\", \"8\")\n",
    "spark_conf.set(\"spark.driver.cores\", \"8\")\n",
    "spark_conf.set(\"hive.metastore.uris\", \"thrift://hive-metastore:9083\")\n",
    "\n",
    "spark = SparkSession \\\n",
    "    .builder.master(\"local\") \\\n",
    "    .appName(\"Example\") \\\n",
    "    .config(conf=spark_conf) \\\n",
    "    .enableHiveSupport() \\\n",
    "    .getOrCreate()"
   ]
  },
  {
   "cell_type": "markdown",
   "id": "56a59dd3-356b-4895-8162-660d4cc3d257",
   "metadata": {},
   "source": [
    "# Database creation"
   ]
  },
  {
   "cell_type": "code",
   "execution_count": null,
   "id": "c103f3de-120d-4b17-88e4-9c26f9542aa4",
   "metadata": {},
   "outputs": [],
   "source": [
    "spark.sql(f\"\"\"\n",
    "    CREATE DATABASE IF NOT EXISTS datalake\n",
    "    LOCATION 's3a://raw.datalake.mydomain.com/';\n",
    "\"\"\").show()"
   ]
  },
  {
   "cell_type": "markdown",
   "id": "d809c7f9-6cc0-40a4-8b76-0f8fe3a136da",
   "metadata": {},
   "source": [
    "# Download Financial Data from Yahoo"
   ]
  },
  {
   "cell_type": "code",
   "execution_count": null,
   "id": "154b0de9-6969-43ea-a437-5a3c545f1d2c",
   "metadata": {},
   "outputs": [],
   "source": [
    "data = yf.download('PETR4.SA', start='2024-01-01')\n",
    "data = data.reset_index()"
   ]
  },
  {
   "cell_type": "code",
   "execution_count": null,
   "id": "13807f13-a6eb-4f91-bbd3-5dd8e51e327e",
   "metadata": {},
   "outputs": [],
   "source": [
    "spark.createDataFrame(pd.DataFrame(data.values, columns=['Date','Close','High','Low','Open','Volume'])).createOrReplaceTempView('tmp_stocks')"
   ]
  },
  {
   "cell_type": "code",
   "execution_count": null,
   "id": "4d0234b3-e0cb-438b-8543-b80ccf3766ff",
   "metadata": {},
   "outputs": [],
   "source": [
    "spark.sql(\"SELECT * FROM tmp_stocks\").printSchema()"
   ]
  },
  {
   "cell_type": "code",
   "execution_count": null,
   "id": "b26a4ef7-5c41-4f18-8ec5-d501b233dc78",
   "metadata": {},
   "outputs": [],
   "source": [
    "df = spark.sql(\"SELECT 'PETR4.SA' AS ticker, `Close`, `High`, `Low`, `Open`, `Volume`, DATE(`Date`) AS dt FROM tmp_stocks\")"
   ]
  },
  {
   "cell_type": "markdown",
   "id": "eb3d7746-3567-4ded-83cb-81a1ea7817c8",
   "metadata": {},
   "source": [
    "# Write table to datalake"
   ]
  },
  {
   "cell_type": "code",
   "execution_count": null,
   "id": "bc08684d-902d-474e-9fa4-65900000a7c8",
   "metadata": {},
   "outputs": [],
   "source": [
    "df.write.format(\"delta\").mode(\"overwrite\").saveAsTable(\"datalake.stock_price_history\")"
   ]
  },
  {
   "cell_type": "markdown",
   "id": "2938ba81-8c62-4d68-a01c-07416deb2b2b",
   "metadata": {},
   "source": [
    "# Query examples"
   ]
  },
  {
   "cell_type": "code",
   "execution_count": null,
   "id": "0cba49e7-fe44-4aff-a8f2-e13a018a3279",
   "metadata": {},
   "outputs": [],
   "source": [
    "spark.sql(\"show tables from datalake\").show()"
   ]
  },
  {
   "cell_type": "code",
   "execution_count": null,
   "id": "2a979ede-025c-454c-bea3-6e83957cd12a",
   "metadata": {},
   "outputs": [],
   "source": [
    "spark.sql(\"select count(1) from datalake.stock_price_history\").show()"
   ]
  },
  {
   "cell_type": "markdown",
   "id": "483f32d8-b639-4066-972b-8343e8495a4e",
   "metadata": {},
   "source": [
    "# Delta Lake table update"
   ]
  },
  {
   "cell_type": "code",
   "execution_count": null,
   "id": "e7ae6e4e-2816-4ad3-b702-7e9f8a82e559",
   "metadata": {},
   "outputs": [],
   "source": [
    "spark.sql(\"DELETE FROM datalake.stock_price_history WHERE (volume % 1000) = 0\").show()"
   ]
  },
  {
   "cell_type": "markdown",
   "id": "59cf2fe9-0197-45f4-8a23-b072d74d4773",
   "metadata": {},
   "source": [
    "# Delta Table Vacuum"
   ]
  },
  {
   "cell_type": "code",
   "execution_count": null,
   "id": "605c9fac-bd03-48f0-a25c-07f8f3fde344",
   "metadata": {},
   "outputs": [],
   "source": [
    "table = DeltaTable.forPath(spark, \"s3a://raw.datalake.mydomain.com/stock_price_history\")"
   ]
  },
  {
   "cell_type": "code",
   "execution_count": null,
   "id": "57f88076-10e2-4b71-9d6f-2621706d1e3b",
   "metadata": {},
   "outputs": [],
   "source": [
    "table.vacuum()"
   ]
  },
  {
   "cell_type": "markdown",
   "id": "448701d9-5374-4bc2-a85c-4b1e581a0450",
   "metadata": {},
   "source": [
    "# Query Table for Version"
   ]
  },
  {
   "cell_type": "code",
   "execution_count": null,
   "id": "c144fb05-8837-432c-8260-729c64ddcc31",
   "metadata": {},
   "outputs": [],
   "source": [
    "spark.sql(\"SELECT count(1) as total FROM datalake.stock_price_history FOR VERSION AS OF 0\").show()"
   ]
  },
  {
   "cell_type": "code",
   "execution_count": null,
   "id": "a65ddf43-2d6d-4079-92f8-50bd96945626",
   "metadata": {},
   "outputs": [],
   "source": [
    "spark.sql(\"SELECT count(1) as total FROM datalake.stock_price_history FOR VERSION AS OF 1\").show()"
   ]
  },
  {
   "cell_type": "code",
   "execution_count": null,
   "id": "2b7a6ae8-d222-4936-b0f8-689948c6dbe2",
   "metadata": {},
   "outputs": [],
   "source": []
  }
 ],
 "metadata": {
  "kernelspec": {
   "display_name": "Python 3 (ipykernel)",
   "language": "python",
   "name": "python3"
  },
  "language_info": {
   "codemirror_mode": {
    "name": "ipython",
    "version": 3
   },
   "file_extension": ".py",
   "mimetype": "text/x-python",
   "name": "python",
   "nbconvert_exporter": "python",
   "pygments_lexer": "ipython3",
   "version": "3.11.5"
  }
 },
 "nbformat": 4,
 "nbformat_minor": 5
}
