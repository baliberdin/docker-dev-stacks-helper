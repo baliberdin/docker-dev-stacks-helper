{
 "cells": [
  {
   "cell_type": "code",
   "execution_count": null,
   "id": "757e37c5-872b-42e5-8e8f-041d3079907c",
   "metadata": {},
   "outputs": [],
   "source": [
    "!pip install delta-spark==2.4.0"
   ]
  },
  {
   "cell_type": "code",
   "execution_count": null,
   "id": "01d9b93b-3413-4491-9bff-abf6a3d4b54c",
   "metadata": {},
   "outputs": [],
   "source": [
    "from pyspark import SparkConf\n",
    "from pyspark.sql import SparkSession\n",
    "from delta.tables import *\n",
    "from pyspark.sql.functions import *"
   ]
  },
  {
   "cell_type": "code",
   "execution_count": null,
   "id": "bd360935-b02b-430c-85f7-1f813fc5e0b2",
   "metadata": {},
   "outputs": [],
   "source": [
    "spark_conf = SparkConf()\n",
    "spark_conf.set(\"spark.jars.packages\", \"io.delta:delta-core_2.12:2.4.0,com.amazonaws:aws-java-sdk-bundle:1.11.1026,org.apache.hadoop:hadoop-aws:3.3.4\")\n",
    "spark_conf.set(\"spark.sql.extensions\", \"io.delta.sql.DeltaSparkSessionExtension\")\n",
    "spark_conf.set(\"spark.sql.catalog.spark_catalog\", \"org.apache.spark.sql.delta.catalog.DeltaCatalog\")\n",
    "spark_conf.set(\"spark.cores\", \"8\")\n",
    "spark_conf.set(\"spark.driver.cores\", \"8\")\n",
    "spark_conf.set(\"hive.metastore.uris\", \"thrift://hive-metastore:9083\")\n",
    "\n",
    "spark = SparkSession \\\n",
    "    .builder.master(\"local\") \\\n",
    "    .appName(\"Example\") \\\n",
    "    .config(conf=spark_conf) \\\n",
    "    .enableHiveSupport() \\\n",
    "    .getOrCreate()"
   ]
  },
  {
   "cell_type": "code",
   "execution_count": null,
   "id": "c103f3de-120d-4b17-88e4-9c26f9542aa4",
   "metadata": {},
   "outputs": [],
   "source": [
    "spark.sql(f\"\"\"\n",
    "    CREATE DATABASE IF NOT EXISTS datalake\n",
    "    LOCATION 's3a://raw.datalake.mydomain.com/';\n",
    "\"\"\").show()"
   ]
  },
  {
   "cell_type": "code",
   "execution_count": null,
   "id": "25c12e1e-e155-4ec9-928a-5aeb04dca982",
   "metadata": {},
   "outputs": [],
   "source": [
    "data = spark.range(0, 1000000)"
   ]
  },
  {
   "cell_type": "code",
   "execution_count": null,
   "id": "169dc79b-1b0a-4613-8a91-71cfc8315e87",
   "metadata": {},
   "outputs": [],
   "source": [
    "data.show(5)"
   ]
  },
  {
   "cell_type": "code",
   "execution_count": null,
   "id": "bc08684d-902d-474e-9fa4-65900000a7c8",
   "metadata": {},
   "outputs": [],
   "source": [
    "data.write.format(\"delta\").mode(\"overwrite\").saveAsTable(\"datalake.simple_table\")"
   ]
  },
  {
   "cell_type": "code",
   "execution_count": null,
   "id": "0cba49e7-fe44-4aff-a8f2-e13a018a3279",
   "metadata": {},
   "outputs": [],
   "source": [
    "spark.sql(\"show tables from datalake\").show()"
   ]
  },
  {
   "cell_type": "code",
   "execution_count": null,
   "id": "2a979ede-025c-454c-bea3-6e83957cd12a",
   "metadata": {},
   "outputs": [],
   "source": [
    "spark.sql(\"select count(1) from datalake.simple_table\").show()"
   ]
  },
  {
   "cell_type": "markdown",
   "id": "483f32d8-b639-4066-972b-8343e8495a4e",
   "metadata": {},
   "source": [
    "# Delta Lake table update"
   ]
  },
  {
   "cell_type": "code",
   "execution_count": null,
   "id": "e7ae6e4e-2816-4ad3-b702-7e9f8a82e559",
   "metadata": {},
   "outputs": [],
   "source": [
    "spark.sql(f\"\"\"DELETE FROM datalake.simple_table WHERE (id % 2) = 0\"\"\").show()"
   ]
  },
  {
   "cell_type": "code",
   "execution_count": null,
   "id": "26357797-c0f6-4169-9f15-2a976712599e",
   "metadata": {},
   "outputs": [],
   "source": [
    "data = spark.range(0, 50000000)"
   ]
  },
  {
   "cell_type": "code",
   "execution_count": null,
   "id": "8d117fda-5931-40e6-aa36-554f11903997",
   "metadata": {},
   "outputs": [],
   "source": [
    "data.write.format(\"delta\").mode(\"append\").saveAsTable(\"datalake.simple_table\")"
   ]
  },
  {
   "cell_type": "markdown",
   "id": "59cf2fe9-0197-45f4-8a23-b072d74d4773",
   "metadata": {},
   "source": [
    "# Delta Table Vacuum"
   ]
  },
  {
   "cell_type": "code",
   "execution_count": null,
   "id": "605c9fac-bd03-48f0-a25c-07f8f3fde344",
   "metadata": {},
   "outputs": [],
   "source": [
    "table = DeltaTable.forPath(spark, \"s3a://raw.datalake.mydomain.com/simple_table\")"
   ]
  },
  {
   "cell_type": "code",
   "execution_count": null,
   "id": "57f88076-10e2-4b71-9d6f-2621706d1e3b",
   "metadata": {},
   "outputs": [],
   "source": [
    "table.vacuum()"
   ]
  }
 ],
 "metadata": {
  "kernelspec": {
   "display_name": "Python 3 (ipykernel)",
   "language": "python",
   "name": "python3"
  },
  "language_info": {
   "codemirror_mode": {
    "name": "ipython",
    "version": 3
   },
   "file_extension": ".py",
   "mimetype": "text/x-python",
   "name": "python",
   "nbconvert_exporter": "python",
   "pygments_lexer": "ipython3",
   "version": "3.11.5"
  }
 },
 "nbformat": 4,
 "nbformat_minor": 5
}
